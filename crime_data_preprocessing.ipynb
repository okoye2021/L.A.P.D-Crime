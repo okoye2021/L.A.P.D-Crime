{
 "cells": [
  {
   "cell_type": "markdown",
   "id": "6798b4cc",
   "metadata": {},
   "source": [
    "# \n",
    "#### Data type conversions\n",
    "* DR_NO field was converted from integer data type to sting data type, and was used as the primary key.\n",
    "* Date and time feilds were converted to the DateTime and tim"
   ]
  },
  {
   "cell_type": "code",
   "execution_count": 1,
   "id": "4d775ee6",
   "metadata": {},
   "outputs": [],
   "source": [
    "# Importing required libraries for data manipulation and data Visualization\n",
    "import pandas as pd \n",
    "import os\n",
    "import time\n",
    "import datetime as dt\n",
    "from datetime import datetime"
   ]
  },
  {
   "cell_type": "code",
   "execution_count": 2,
   "id": "205f42f2",
   "metadata": {},
   "outputs": [
    {
     "name": "stdout",
     "output_type": "stream",
     "text": [
      "\n",
      "\n",
      "LAPD crime dataframe first five rows\n",
      "===============================================================================\n",
      "       DR_NO               Date Rptd                DATE OCC  TIME OCC  AREA  \\\n",
      "0  190326475  03/01/2020 12:00:00 AM  03/01/2020 12:00:00 AM      2130     7   \n",
      "1  200106753  02/09/2020 12:00:00 AM  02/08/2020 12:00:00 AM      1800     1   \n",
      "2  200320258  11/11/2020 12:00:00 AM  11/04/2020 12:00:00 AM      1700     3   \n",
      "3  200907217  05/10/2023 12:00:00 AM  03/10/2020 12:00:00 AM      2037     9   \n",
      "4  200412582  09/09/2020 12:00:00 AM  09/09/2020 12:00:00 AM       630     4   \n",
      "\n",
      "    AREA NAME  Rpt Dist No  Part 1-2  Crm Cd  \\\n",
      "0    Wilshire          784         1     510   \n",
      "1     Central          182         1     330   \n",
      "2   Southwest          356         1     480   \n",
      "3    Van Nuys          964         1     343   \n",
      "4  Hollenbeck          413         1     510   \n",
      "\n",
      "                                Crm Cd Desc  ... Status   Status Desc  \\\n",
      "0                          VEHICLE - STOLEN  ...     AA  Adult Arrest   \n",
      "1                     BURGLARY FROM VEHICLE  ...     IC   Invest Cont   \n",
      "2                             BIKE - STOLEN  ...     IC   Invest Cont   \n",
      "3  SHOPLIFTING-GRAND THEFT ($950.01 & OVER)  ...     IC   Invest Cont   \n",
      "4                          VEHICLE - STOLEN  ...     IC   Invest Cont   \n",
      "\n",
      "  Crm Cd 1 Crm Cd 2  Crm Cd 3 Crm Cd 4  \\\n",
      "0    510.0    998.0       NaN      NaN   \n",
      "1    330.0    998.0       NaN      NaN   \n",
      "2    480.0      NaN       NaN      NaN   \n",
      "3    343.0      NaN       NaN      NaN   \n",
      "4    510.0      NaN       NaN      NaN   \n",
      "\n",
      "                                   LOCATION Cross Street      LAT       LON  \n",
      "0   1900 S  LONGWOOD                     AV          NaN  34.0375 -118.3506  \n",
      "1   1000 S  FLOWER                       ST          NaN  34.0444 -118.2628  \n",
      "2   1400 W  37TH                         ST          NaN  34.0210 -118.3002  \n",
      "3  14000    RIVERSIDE                    DR          NaN  34.1576 -118.4387  \n",
      "4                          200 E  AVENUE 28          NaN  34.0820 -118.2130  \n",
      "\n",
      "[5 rows x 28 columns]\n"
     ]
    }
   ],
   "source": [
    "# Reading Crime Dataset into memory\n",
    "crime_dt = pd.read_csv('C:\\\\Python_Files\\\\Crime_data\\\\Crime_Data_from_2020_to_Present.csv')\n",
    "\n",
    "# Printing the first 5 records in the dataset\n",
    "print(\"\\n\\nLAPD crime dataframe first five rows\")\n",
    "print(\"===============================================================================\")\n",
    "print(crime_dt.head(5))"
   ]
  },
  {
   "cell_type": "code",
   "execution_count": 3,
   "id": "28e65661",
   "metadata": {},
   "outputs": [
    {
     "name": "stdout",
     "output_type": "stream",
     "text": [
      "\n",
      "\n",
      "LAPD crime dataframe last five rows\n",
      "===============================================================================\n",
      "             DR_NO               Date Rptd                DATE OCC  TIME OCC  \\\n",
      "1005099  250304184  02/18/2025 12:00:00 AM  02/14/2025 12:00:00 AM      1200   \n",
      "1005100  252104053  01/19/2025 12:00:00 AM  01/17/2025 12:00:00 AM      1530   \n",
      "1005101  250304214  02/23/2025 12:00:00 AM  02/21/2025 12:00:00 AM      1530   \n",
      "1005102  250304203  02/20/2025 12:00:00 AM  02/13/2025 12:00:00 AM      2100   \n",
      "1005103  250504051  01/14/2025 12:00:00 AM  01/14/2025 12:00:00 AM      1250   \n",
      "\n",
      "         AREA  AREA NAME  Rpt Dist No  Part 1-2  Crm Cd  \\\n",
      "1005099     3  Southwest          328         1     510   \n",
      "1005100    21    Topanga         2114         1     341   \n",
      "1005101     3  Southwest          358         1     510   \n",
      "1005102     3  Southwest          325         1     522   \n",
      "1005103     5     Harbor          509         1     210   \n",
      "\n",
      "                                               Crm Cd Desc  ... Status  \\\n",
      "1005099                                   VEHICLE - STOLEN  ...     IC   \n",
      "1005100  THEFT-GRAND ($950.01 & OVER)EXCPT,GUNS,FOWL,LI...  ...     IC   \n",
      "1005101                                   VEHICLE - STOLEN  ...     IC   \n",
      "1005102  VEHICLE, STOLEN - OTHER (MOTORIZED SCOOTERS, B...  ...     IC   \n",
      "1005103                                            ROBBERY  ...     IC   \n",
      "\n",
      "         Status Desc Crm Cd 1 Crm Cd 2  Crm Cd 3 Crm Cd 4  \\\n",
      "1005099  Invest Cont    510.0      NaN       NaN      NaN   \n",
      "1005100  Invest Cont    341.0      NaN       NaN      NaN   \n",
      "1005101  Invest Cont    510.0      NaN       NaN      NaN   \n",
      "1005102  Invest Cont    522.0      NaN       NaN      NaN   \n",
      "1005103  Invest Cont    210.0      NaN       NaN      NaN   \n",
      "\n",
      "                                         LOCATION Cross Street      LAT  \\\n",
      "1005099    700 W  28TH                         ST          NaN  34.0270   \n",
      "1005100  22200    ELKWOOD                      ST          NaN  34.2128   \n",
      "1005101   3600    MCCLINTOCK                   AV          NaN  34.0212   \n",
      "1005102   2600    ELLENDALE                    PL          NaN  34.0307   \n",
      "1005103  24300    WESTERN                      AV          NaN  33.8046   \n",
      "\n",
      "              LON  \n",
      "1005099 -118.2794  \n",
      "1005100 -118.6103  \n",
      "1005101 -118.2895  \n",
      "1005102 -118.2923  \n",
      "1005103 -118.3074  \n",
      "\n",
      "[5 rows x 28 columns]\n"
     ]
    }
   ],
   "source": [
    "# Printing the last 5 records in the dataset\n",
    "print(\"\\n\\nLAPD crime dataframe last five rows\")\n",
    "print(\"===============================================================================\")\n",
    "print(crime_dt.tail(5))"
   ]
  },
  {
   "cell_type": "code",
   "execution_count": 4,
   "id": "cc581477",
   "metadata": {},
   "outputs": [
    {
     "name": "stdout",
     "output_type": "stream",
     "text": [
      "<class 'pandas.core.frame.DataFrame'>\n",
      "RangeIndex: 1005104 entries, 0 to 1005103\n",
      "Data columns (total 28 columns):\n",
      " #   Column          Non-Null Count    Dtype  \n",
      "---  ------          --------------    -----  \n",
      " 0   DR_NO           1005104 non-null  int64  \n",
      " 1   Date Rptd       1005104 non-null  object \n",
      " 2   DATE OCC        1005104 non-null  object \n",
      " 3   TIME OCC        1005104 non-null  int64  \n",
      " 4   AREA            1005104 non-null  int64  \n",
      " 5   AREA NAME       1005104 non-null  object \n",
      " 6   Rpt Dist No     1005104 non-null  int64  \n",
      " 7   Part 1-2        1005104 non-null  int64  \n",
      " 8   Crm Cd          1005104 non-null  int64  \n",
      " 9   Crm Cd Desc     1005104 non-null  object \n",
      " 10  Mocodes         853380 non-null   object \n",
      " 11  Vict Age        1005104 non-null  int64  \n",
      " 12  Vict Sex        860353 non-null   object \n",
      " 13  Vict Descent    860341 non-null   object \n",
      " 14  Premis Cd       1005088 non-null  float64\n",
      " 15  Premis Desc     1004516 non-null  object \n",
      " 16  Weapon Used Cd  327244 non-null   float64\n",
      " 17  Weapon Desc     327244 non-null   object \n",
      " 18  Status          1005103 non-null  object \n",
      " 19  Status Desc     1005104 non-null  object \n",
      " 20  Crm Cd 1        1005093 non-null  float64\n",
      " 21  Crm Cd 2        69146 non-null    float64\n",
      " 22  Crm Cd 3        2315 non-null     float64\n",
      " 23  Crm Cd 4        64 non-null       float64\n",
      " 24  LOCATION        1005104 non-null  object \n",
      " 25  Cross Street    154237 non-null   object \n",
      " 26  LAT             1005104 non-null  float64\n",
      " 27  LON             1005104 non-null  float64\n",
      "dtypes: float64(8), int64(7), object(13)\n",
      "memory usage: 214.7+ MB\n"
     ]
    }
   ],
   "source": [
    "# Printing a summary of the dataset using the info method\n",
    "crime_dt.info()"
   ]
  },
  {
   "cell_type": "code",
   "execution_count": 5,
   "id": "f521ae84",
   "metadata": {},
   "outputs": [
    {
     "data": {
      "text/plain": [
       "DR_NO                   0\n",
       "Date Rptd               0\n",
       "DATE OCC                0\n",
       "TIME OCC                0\n",
       "AREA                    0\n",
       "AREA NAME               0\n",
       "Rpt Dist No             0\n",
       "Part 1-2                0\n",
       "Crm Cd                  0\n",
       "Crm Cd Desc             0\n",
       "Mocodes            151724\n",
       "Vict Age                0\n",
       "Vict Sex           144751\n",
       "Vict Descent       144763\n",
       "Premis Cd              16\n",
       "Premis Desc           588\n",
       "Weapon Used Cd     677860\n",
       "Weapon Desc        677860\n",
       "Status                  1\n",
       "Status Desc             0\n",
       "Crm Cd 1               11\n",
       "Crm Cd 2           935958\n",
       "Crm Cd 3          1002789\n",
       "Crm Cd 4          1005040\n",
       "LOCATION                0\n",
       "Cross Street       850867\n",
       "LAT                     0\n",
       "LON                     0\n",
       "dtype: int64"
      ]
     },
     "execution_count": 5,
     "metadata": {},
     "output_type": "execute_result"
    }
   ],
   "source": [
    "# Displaying a sum of the null values in each column of the dataset.\n",
    "crime_dt.isnull().sum()"
   ]
  },
  {
   "cell_type": "markdown",
   "id": "32142898",
   "metadata": {},
   "source": [
    "## Dropping fields and records "
   ]
  },
  {
   "cell_type": "markdown",
   "id": "ba59fb15",
   "metadata": {},
   "source": [
    "###### Dropping fields in the dataset due to the high propotion of missing values. The fields to be droped include:\n",
    "* Crm Cd1\n",
    "* Crm Cd2\n",
    "* Crm Cd3\n",
    "* Crm Cd4 \n",
    "* Cross Street\n",
    "* Mo codes\n",
    "* Weapon Used Cd\n",
    "* Weapon Desc"
   ]
  },
  {
   "cell_type": "code",
   "execution_count": 6,
   "id": "35ea4260",
   "metadata": {},
   "outputs": [
    {
     "name": "stdout",
     "output_type": "stream",
     "text": [
      "<class 'pandas.core.frame.DataFrame'>\n",
      "RangeIndex: 1005104 entries, 0 to 1005103\n",
      "Data columns (total 20 columns):\n",
      " #   Column        Non-Null Count    Dtype  \n",
      "---  ------        --------------    -----  \n",
      " 0   DR_NO         1005104 non-null  int64  \n",
      " 1   Date Rptd     1005104 non-null  object \n",
      " 2   DATE OCC      1005104 non-null  object \n",
      " 3   TIME OCC      1005104 non-null  int64  \n",
      " 4   AREA          1005104 non-null  int64  \n",
      " 5   AREA NAME     1005104 non-null  object \n",
      " 6   Rpt Dist No   1005104 non-null  int64  \n",
      " 7   Part 1-2      1005104 non-null  int64  \n",
      " 8   Crm Cd        1005104 non-null  int64  \n",
      " 9   Crm Cd Desc   1005104 non-null  object \n",
      " 10  Vict Age      1005104 non-null  int64  \n",
      " 11  Vict Sex      860353 non-null   object \n",
      " 12  Vict Descent  860341 non-null   object \n",
      " 13  Premis Cd     1005088 non-null  float64\n",
      " 14  Premis Desc   1004516 non-null  object \n",
      " 15  Status        1005103 non-null  object \n",
      " 16  Status Desc   1005104 non-null  object \n",
      " 17  LOCATION      1005104 non-null  object \n",
      " 18  LAT           1005104 non-null  float64\n",
      " 19  LON           1005104 non-null  float64\n",
      "dtypes: float64(3), int64(7), object(10)\n",
      "memory usage: 153.4+ MB\n"
     ]
    }
   ],
   "source": [
    "# Dropping the Crm Cd1, Crm Cd2, Crm Cd3, Crm Cd4 fields.\n",
    "crime_dt.drop([\"Crm Cd 1\", \"Crm Cd 2\", \"Crm Cd 3\", \"Crm Cd 4\"], axis = 1, inplace = True)\n",
    "\n",
    "# Dropping the Cross Street, Mocodes, Weapon Used Cd, Weapon Desc Fields\n",
    "crime_dt.drop([\"Cross Street\", \"Mocodes\", \"Weapon Used Cd\", \"Weapon Desc\"], axis = 1, inplace = True)\n",
    "crime_dt.info()"
   ]
  },
  {
   "cell_type": "code",
   "execution_count": 7,
   "id": "deaec236",
   "metadata": {},
   "outputs": [
    {
     "data": {
      "text/plain": [
       "(859764, 20)"
      ]
     },
     "execution_count": 7,
     "metadata": {},
     "output_type": "execute_result"
    }
   ],
   "source": [
    "# Dropping rows with missing values\n",
    "crime_dt.dropna(inplace = True)\n",
    "\n",
    "# Reseting index\n",
    "crime_dt.reset_index(inplace = True, drop = True)\n",
    "\n",
    "crime_dt.shape"
   ]
  },
  {
   "cell_type": "code",
   "execution_count": 8,
   "id": "e30aa745",
   "metadata": {},
   "outputs": [
    {
     "data": {
      "text/plain": [
       "Index(['DIV_REC_NO', 'Date_Rptd', 'DATE_OCC', 'TIME_OCC', 'AREA_Cd',\n",
       "       'AREA_NAME', 'Rpt_Dist_No', 'Part_1-2', 'Crm_Cd', 'Crm_Cd_Desc',\n",
       "       'Vict_Age', 'Vict_Sex', 'Vict_Descent', 'Premis_Cd', 'Premis_Desc',\n",
       "       'Status_Cd', 'Status_Desc', 'LOCATION', 'LAT', 'LON'],\n",
       "      dtype='object')"
      ]
     },
     "execution_count": 8,
     "metadata": {},
     "output_type": "execute_result"
    }
   ],
   "source": [
    "# Renaming columns to the appropriate naming convention \n",
    "rename_map = {\"DR_NO\":\"DIV_REC_NO\", \"Date Rptd\":\"Date_Rptd\", \"DATE OCC\":\"DATE_OCC\", \"TIME OCC\":\"TIME_OCC\", \"AREA\":\"AREA_Cd\", \"AREA NAME\":\"AREA_NAME\", \"Rpt Dist No\":\"Rpt_Dist_No\", \"Part 1-2\":\"Part_1-2\",\n",
    "                \"Crm Cd\":\"Crm_Cd\", \"Crm Cd Desc\":\"Crm_Cd_Desc\", \"Vict Age\":\"Vict_Age\", \"Vict Sex\":\"Vict_Sex\", \"Vict Descent\":\"Vict_Descent\", \"Premis Cd\":\"Premis_Cd\",\n",
    "                \"Premis Desc\":\"Premis_Desc\", \"Status\":\"Status_Cd\",\"Status Desc\":\"Status_Desc\"}\n",
    "    \n",
    "crime_dt = crime_dt.rename(columns=rename_map)\n",
    "\n",
    "crime_dt.columns"
   ]
  },
  {
   "cell_type": "markdown",
   "id": "17678b5c",
   "metadata": {},
   "source": [
    "### Column merging and data type conversion "
   ]
  },
  {
   "cell_type": "code",
   "execution_count": 9,
   "id": "c5de07e3",
   "metadata": {},
   "outputs": [
    {
     "name": "stdout",
     "output_type": "stream",
     "text": [
      "Wall time: 29.3 s\n"
     ]
    }
   ],
   "source": [
    "%%time\n",
    "\n",
    "# Slicing the DATE_OCC column.\n",
    "crime_dt[\"DATE_OCC\"] = [str(row[\"DATE_OCC\"])[:10] for _, row in crime_dt.iterrows()]"
   ]
  },
  {
   "cell_type": "code",
   "execution_count": 10,
   "id": "7f148e51",
   "metadata": {},
   "outputs": [
    {
     "name": "stdout",
     "output_type": "stream",
     "text": [
      "Wall time: 34.6 s\n"
     ]
    }
   ],
   "source": [
    "%%time\n",
    "\n",
    "# Slicing the TIME_OCC column into the rigth format\n",
    "crime_dt[\"TIME_OCC\"] = [(str(row[\"TIME_OCC\"])[:2] + \":\" + str(row[\"TIME_OCC\"])[2:]) for _, row in crime_dt.iterrows()]"
   ]
  },
  {
   "cell_type": "code",
   "execution_count": 11,
   "id": "df5f7c7e",
   "metadata": {},
   "outputs": [
    {
     "name": "stdout",
     "output_type": "stream",
     "text": [
      "Wall time: 586 ms\n"
     ]
    }
   ],
   "source": [
    "%%time\n",
    "\n",
    "# Dropping rows where the TIME_OCC record do not comform to the time format\n",
    "crime_dt = crime_dt.drop(crime_dt[crime_dt[\"TIME_OCC\"].astype(str).str.len() < 5].index)\n",
    "crime_dt.reset_index(inplace = True, drop = True)"
   ]
  },
  {
   "cell_type": "code",
   "execution_count": 12,
   "id": "29600f7e",
   "metadata": {
    "scrolled": true
   },
   "outputs": [],
   "source": [
    "# Merging TIME_OCC & DATE_OCC columns\n",
    "crime_dt[\"TIMESTAMP\"] = crime_dt[\"DATE_OCC\"].astype(str)+\" \"+crime_dt[\"TIME_OCC\"].astype(str)"
   ]
  },
  {
   "cell_type": "code",
   "execution_count": 17,
   "id": "ff463e88",
   "metadata": {
    "scrolled": true
   },
   "outputs": [
    {
     "name": "stdout",
     "output_type": "stream",
     "text": [
      "Wall time: 46.4 s\n"
     ]
    }
   ],
   "source": [
    "%%time\n",
    "\n",
    "# Defining functions to convert DIV_REC_NO, Premis_Cd, Date_Rptd, TIMESTAMP to the appropriate format. \n",
    "def conv_dt_typ(clmn, d_typ):\n",
    "    crime_dt[clmn] = crime_dt[clmn].astype(d_typ)\n",
    "\n",
    "conv_dt_typ(\"DIV_REC_NO\", str)\n",
    "conv_dt_typ(\"Premis_Cd\", int)\n",
    "conv_dt_typ(\"Date_Rptd\", str)\n",
    "\n",
    "\n",
    "def conv_datetime(clmn):\n",
    "    if clmn == \"Date_Rptd\":\n",
    "        crime_dt[clmn] = pd.to_datetime(crime_dt[clmn]).dt.date\n",
    "    elif clmn == \"TIMESTAMP\":\n",
    "        crime_dt[clmn] = pd.to_datetime(crime_dt[clmn])\n",
    "    \n",
    "conv_datetime(\"Date_Rptd\")\n",
    "conv_datetime(\"TIMESTAMP\")\n",
    "\n",
    "# Dropping columns\n",
    "crime_dt.drop(columns = [\"TIME_OCC\", \"DATE_OCC\"], inplace = True)\n",
    "\n",
    "# Re-odering the columns to reflect changes\n",
    "new_order = ['DIV_REC_NO', 'TIMESTAMP', 'Date_Rptd', 'AREA_Cd', 'AREA_NAME',\n",
    "       'Rpt_Dist_No', 'Part_1-2', 'Crm_Cd', 'Crm_Cd_Desc', 'Vict_Age',\n",
    "       'Vict_Sex', 'Vict_Descent', 'Premis_Cd', 'Premis_Desc', 'Status_Cd',\n",
    "       'Status_Desc', 'LOCATION', 'LAT', 'LON'] \n",
    "crime_dt = crime_dt.reindex(columns = new_order)"
   ]
  },
  {
   "cell_type": "code",
   "execution_count": 18,
   "id": "b34281cf",
   "metadata": {},
   "outputs": [
    {
     "name": "stdout",
     "output_type": "stream",
     "text": [
      "<class 'pandas.core.frame.DataFrame'>\n",
      "RangeIndex: 618733 entries, 0 to 618732\n",
      "Data columns (total 19 columns):\n",
      " #   Column        Non-Null Count   Dtype         \n",
      "---  ------        --------------   -----         \n",
      " 0   DIV_REC_NO    618733 non-null  object        \n",
      " 1   TIMESTAMP     618733 non-null  datetime64[ns]\n",
      " 2   Date_Rptd     618733 non-null  object        \n",
      " 3   AREA_Cd       618733 non-null  int64         \n",
      " 4   AREA_NAME     618733 non-null  object        \n",
      " 5   Rpt_Dist_No   618733 non-null  int64         \n",
      " 6   Part_1-2      618733 non-null  int64         \n",
      " 7   Crm_Cd        618733 non-null  int64         \n",
      " 8   Crm_Cd_Desc   618733 non-null  object        \n",
      " 9   Vict_Age      618733 non-null  int64         \n",
      " 10  Vict_Sex      618733 non-null  object        \n",
      " 11  Vict_Descent  618733 non-null  object        \n",
      " 12  Premis_Cd     618733 non-null  int32         \n",
      " 13  Premis_Desc   618733 non-null  object        \n",
      " 14  Status_Cd     618733 non-null  object        \n",
      " 15  Status_Desc   618733 non-null  object        \n",
      " 16  LOCATION      618733 non-null  object        \n",
      " 17  LAT           618733 non-null  float64       \n",
      " 18  LON           618733 non-null  float64       \n",
      "dtypes: datetime64[ns](1), float64(2), int32(1), int64(5), object(10)\n",
      "memory usage: 87.3+ MB\n"
     ]
    }
   ],
   "source": [
    "crime_dt.info()"
   ]
  },
  {
   "cell_type": "code",
   "execution_count": 19,
   "id": "37be980d",
   "metadata": {},
   "outputs": [
    {
     "name": "stdout",
     "output_type": "stream",
     "text": [
      "\n",
      "\n",
      " Sample Data:\n",
      "=========================================================================\n",
      "\n",
      "   DIV_REC_NO           TIMESTAMP   Date_Rptd  AREA_Cd    AREA_NAME  \\\n",
      "0   190326475 2020-03-01 21:30:00  2020-03-01        7     Wilshire   \n",
      "1   200106753 2020-02-08 18:00:00  2020-02-09        1      Central   \n",
      "2   200320258 2020-11-04 17:00:00  2020-11-11        3    Southwest   \n",
      "3   200907217 2020-03-10 20:37:00  2023-05-10        9     Van Nuys   \n",
      "4   200200759 2020-07-07 13:40:00  2020-07-07        2      Rampart   \n",
      "5   200406391 2020-03-01 14:30:00  2020-03-02        4   Hollenbeck   \n",
      "6   200606074 2020-02-07 16:15:00  2020-02-12        6    Hollywood   \n",
      "7   201110303 2020-06-08 20:00:00  2020-06-11       11    Northeast   \n",
      "8   201000767 2020-07-13 20:00:00  2020-07-14       10  West Valley   \n",
      "9   200906009 2020-02-13 22:30:00  2020-02-14        9     Van Nuys   \n",
      "10  200504009 2020-01-01 21:00:00  2020-01-01        5       Harbor   \n",
      "11  201106871 2020-03-02 21:30:00  2020-03-04       11    Northeast   \n",
      "12  200111627 2020-05-10 22:00:00  2020-05-12        1      Central   \n",
      "13  201225656 2020-12-02 22:45:00  2020-12-02       12  77th Street   \n",
      "14  200309451 2020-04-04 12:10:00  2020-04-04        3    Southwest   \n",
      "15  200211094 2020-06-06 12:00:00  2020-06-08        2      Rampart   \n",
      "16  201212036 2020-05-01 23:30:00  2020-05-02       12  77th Street   \n",
      "17  200914517 2020-09-09 17:35:00  2020-09-10        9     Van Nuys   \n",
      "18  201106067 2020-02-15 18:30:00  2020-02-15       11    Northeast   \n",
      "19  201116118 2020-11-23 12:00:00  2020-11-27       11    Northeast   \n",
      "\n",
      "    Rpt_Dist_No  Part_1-2  Crm_Cd  \\\n",
      "0           784         1     510   \n",
      "1           182         1     330   \n",
      "2           356         1     480   \n",
      "3           964         1     343   \n",
      "4           265         1     648   \n",
      "5           407         1     310   \n",
      "6           646         2     805   \n",
      "7          1118         1     310   \n",
      "8          1043         1     330   \n",
      "9           914         2     806   \n",
      "10          526         2     946   \n",
      "11         1107         2     745   \n",
      "12          111         2     626   \n",
      "13         1268         1     210   \n",
      "14          361         1     310   \n",
      "15          237         1     341   \n",
      "16         1268         1     230   \n",
      "17          909         2     354   \n",
      "18         1101         1     330   \n",
      "19         1141         2     354   \n",
      "\n",
      "                                          Crm_Cd_Desc  Vict_Age Vict_Sex  \\\n",
      "0                                    VEHICLE - STOLEN         0        M   \n",
      "1                               BURGLARY FROM VEHICLE        47        M   \n",
      "2                                       BIKE - STOLEN        19        X   \n",
      "3            SHOPLIFTING-GRAND THEFT ($950.01 & OVER)        19        M   \n",
      "4                                               ARSON         0        X   \n",
      "5                                            BURGLARY        27        M   \n",
      "6                                             PIMPING        23        F   \n",
      "7                                            BURGLARY         0        M   \n",
      "8                               BURGLARY FROM VEHICLE        41        M   \n",
      "9                                           PANDERING         0        F   \n",
      "10                          OTHER MISCELLANEOUS CRIME         0        X   \n",
      "11           VANDALISM - MISDEAMEANOR ($399 OR UNDER)        50        M   \n",
      "12                  INTIMATE PARTNER - SIMPLE ASSAULT        30        F   \n",
      "13                                            ROBBERY        21        M   \n",
      "14                                           BURGLARY        19        X   \n",
      "15  THEFT-GRAND ($950.01 & OVER)EXCPT,GUNS,FOWL,LI...         0        X   \n",
      "16     ASSAULT WITH DEADLY WEAPON, AGGRAVATED ASSAULT        28        F   \n",
      "17                                  THEFT OF IDENTITY        40        M   \n",
      "18                              BURGLARY FROM VEHICLE        43        M   \n",
      "19                                  THEFT OF IDENTITY        26        M   \n",
      "\n",
      "   Vict_Descent  Premis_Cd                                   Premis_Desc  \\\n",
      "0             O        101                                        STREET   \n",
      "1             O        128             BUS STOP/LAYOVER (ALSO QUERY 124)   \n",
      "2             X        502  MULTI-UNIT DWELLING (APARTMENT, DUPLEX, ETC)   \n",
      "3             O        405                                CLOTHING STORE   \n",
      "4             X        101                                        STREET   \n",
      "5             W        221                                PUBLIC STORAGE   \n",
      "6             H        101                                        STREET   \n",
      "7             O        203                                OTHER BUSINESS   \n",
      "8             W        108                                   PARKING LOT   \n",
      "9             X        101                                        STREET   \n",
      "10            X        101                                        STREET   \n",
      "11            H        101                                        STREET   \n",
      "12            W        502  MULTI-UNIT DWELLING (APARTMENT, DUPLEX, ETC)   \n",
      "13            H        101                                        STREET   \n",
      "14            X        301                                   GAS STATION   \n",
      "15            X        247                                      CAR WASH   \n",
      "16            B        501                        SINGLE FAMILY DWELLING   \n",
      "17            O        507                         CONDOMINIUM/TOWNHOUSE   \n",
      "18            A        108                                   PARKING LOT   \n",
      "19            W        501                        SINGLE FAMILY DWELLING   \n",
      "\n",
      "   Status_Cd   Status_Desc                                  LOCATION      LAT  \\\n",
      "0         AA  Adult Arrest   1900 S  LONGWOOD                     AV  34.0375   \n",
      "1         IC   Invest Cont   1000 S  FLOWER                       ST  34.0444   \n",
      "2         IC   Invest Cont   1400 W  37TH                         ST  34.0210   \n",
      "3         IC   Invest Cont  14000    RIVERSIDE                    DR  34.1576   \n",
      "4         IC   Invest Cont                              JAMES M WOOD  34.0536   \n",
      "5         IC   Invest Cont                     4500    HUNTINGTON DR  34.0881   \n",
      "6         AA  Adult Arrest                                 HOLLYWOOD  34.1016   \n",
      "7         IC   Invest Cont                          100    AVENUE 56  34.1089   \n",
      "8         AA  Adult Arrest  18600    HATTERAS                     ST  34.1774   \n",
      "9         AO   Adult Other                                 SEPULVEDA  34.1958   \n",
      "10        AA  Adult Arrest                                         G  33.7783   \n",
      "11        IC   Invest Cont   6100    DELPHI                       ST  34.1241   \n",
      "12        AA  Adult Arrest    700 N  HILL                         PL  34.0618   \n",
      "13        IC   Invest Cont                                 SAN PEDRO  33.9610   \n",
      "14        IC   Invest Cont   3700 S  LA BREA                      AV  34.0199   \n",
      "15        IC   Invest Cont   1600 W  TEMPLE                       ST  34.0682   \n",
      "16        IC   Invest Cont    100 E  82ND                         ST  33.9654   \n",
      "17        IC   Invest Cont  13600    LEADWELL                     ST  34.2039   \n",
      "18        IC   Invest Cont   2700 N  VERMONT                      AV  34.1179   \n",
      "19        IC   Invest Cont   2000 N  VERMONT                      AV  34.1095   \n",
      "\n",
      "         LON  \n",
      "0  -118.3506  \n",
      "1  -118.2628  \n",
      "2  -118.3002  \n",
      "3  -118.4387  \n",
      "4  -118.2788  \n",
      "5  -118.1877  \n",
      "6  -118.3370  \n",
      "7  -118.1942  \n",
      "8  -118.5387  \n",
      "9  -118.4662  \n",
      "10 -118.2662  \n",
      "11 -118.1878  \n",
      "12 -118.2424  \n",
      "13 -118.2695  \n",
      "14 -118.3556  \n",
      "15 -118.2609  \n",
      "16 -118.2739  \n",
      "17 -118.4312  \n",
      "18 -118.2930  \n",
      "19 -118.2958  \n"
     ]
    }
   ],
   "source": [
    "print(\"\\n\\n Sample Data:\")\n",
    "print(\"=========================================================================\\n\")\n",
    "print(crime_dt.head(20))"
   ]
  },
  {
   "cell_type": "code",
   "execution_count": null,
   "id": "8166323b",
   "metadata": {},
   "outputs": [],
   "source": []
  },
  {
   "cell_type": "code",
   "execution_count": 20,
   "id": "f94472ad",
   "metadata": {},
   "outputs": [],
   "source": [
    "# Writing dataset to csv\n",
    "crime_dt.to_csv(\"C:\\\\Python_Files\\\\Crime_data\\\\CLEAN_CRM_DATA.csv\", index = False)"
   ]
  }
 ],
 "metadata": {
  "kernelspec": {
   "display_name": "Python 3 (ipykernel)",
   "language": "python",
   "name": "python3"
  },
  "language_info": {
   "codemirror_mode": {
    "name": "ipython",
    "version": 3
   },
   "file_extension": ".py",
   "mimetype": "text/x-python",
   "name": "python",
   "nbconvert_exporter": "python",
   "pygments_lexer": "ipython3",
   "version": "3.9.7"
  }
 },
 "nbformat": 4,
 "nbformat_minor": 5
}
