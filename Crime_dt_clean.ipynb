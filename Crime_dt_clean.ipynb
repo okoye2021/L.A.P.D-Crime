{
 "cells": [
  {
   "cell_type": "code",
   "execution_count": 1,
   "id": "3779ef30",
   "metadata": {},
   "outputs": [],
   "source": [
    "# Importing libraries\n",
    "import pandas as pd\n",
    "import os\n",
    "import warnings\n",
    "import time\n",
    "warnings.filterwarnings(\"ignore\")"
   ]
  },
  {
   "cell_type": "code",
   "execution_count": 2,
   "id": "c863eb68",
   "metadata": {},
   "outputs": [],
   "source": [
    "# reading file into memory\n",
    "cln_crime_dt = pd.read_csv('C:\\\\Python_Files\\\\Crime_data\\\\CLEAN_CRM_DATA.csv')"
   ]
  },
  {
   "cell_type": "code",
   "execution_count": 3,
   "id": "4021c711",
   "metadata": {},
   "outputs": [
    {
     "name": "stdout",
     "output_type": "stream",
     "text": [
      "\n",
      "\n",
      " Sample Data:\n",
      "==========================================================================\n",
      "\n",
      "   DIV_REC_NO            TIMESTAMP   Date_Rptd  AREA_Cd    AREA_NAME  \\\n",
      "0   190326475  2020-03-01 21:30:00  2020-03-01        7     Wilshire   \n",
      "1   200106753  2020-02-08 18:00:00  2020-02-09        1      Central   \n",
      "2   200320258  2020-11-04 17:00:00  2020-11-11        3    Southwest   \n",
      "3   200907217  2020-03-10 20:37:00  2023-05-10        9     Van Nuys   \n",
      "4   200200759  2020-07-07 13:40:00  2020-07-07        2      Rampart   \n",
      "5   200406391  2020-03-01 14:30:00  2020-03-02        4   Hollenbeck   \n",
      "6   200606074  2020-02-07 16:15:00  2020-02-12        6    Hollywood   \n",
      "7   201110303  2020-06-08 20:00:00  2020-06-11       11    Northeast   \n",
      "8   201000767  2020-07-13 20:00:00  2020-07-14       10  West Valley   \n",
      "9   200906009  2020-02-13 22:30:00  2020-02-14        9     Van Nuys   \n",
      "\n",
      "   Rpt_Dist_No  Part_1-2  Crm_Cd                               Crm_Cd_Desc  \\\n",
      "0          784         1     510                          VEHICLE - STOLEN   \n",
      "1          182         1     330                     BURGLARY FROM VEHICLE   \n",
      "2          356         1     480                             BIKE - STOLEN   \n",
      "3          964         1     343  SHOPLIFTING-GRAND THEFT ($950.01 & OVER)   \n",
      "4          265         1     648                                     ARSON   \n",
      "5          407         1     310                                  BURGLARY   \n",
      "6          646         2     805                                   PIMPING   \n",
      "7         1118         1     310                                  BURGLARY   \n",
      "8         1043         1     330                     BURGLARY FROM VEHICLE   \n",
      "9          914         2     806                                 PANDERING   \n",
      "\n",
      "   Vict_Age Vict_Sex Vict_Descent  Premis_Cd  \\\n",
      "0         0        M            O        101   \n",
      "1        47        M            O        128   \n",
      "2        19        X            X        502   \n",
      "3        19        M            O        405   \n",
      "4         0        X            X        101   \n",
      "5        27        M            W        221   \n",
      "6        23        F            H        101   \n",
      "7         0        M            O        203   \n",
      "8        41        M            W        108   \n",
      "9         0        F            X        101   \n",
      "\n",
      "                                    Premis_Desc Status_Cd   Status_Desc  \\\n",
      "0                                        STREET        AA  Adult Arrest   \n",
      "1             BUS STOP/LAYOVER (ALSO QUERY 124)        IC   Invest Cont   \n",
      "2  MULTI-UNIT DWELLING (APARTMENT, DUPLEX, ETC)        IC   Invest Cont   \n",
      "3                                CLOTHING STORE        IC   Invest Cont   \n",
      "4                                        STREET        IC   Invest Cont   \n",
      "5                                PUBLIC STORAGE        IC   Invest Cont   \n",
      "6                                        STREET        AA  Adult Arrest   \n",
      "7                                OTHER BUSINESS        IC   Invest Cont   \n",
      "8                                   PARKING LOT        AA  Adult Arrest   \n",
      "9                                        STREET        AO   Adult Other   \n",
      "\n",
      "                                   LOCATION      LAT       LON  \n",
      "0   1900 S  LONGWOOD                     AV  34.0375 -118.3506  \n",
      "1   1000 S  FLOWER                       ST  34.0444 -118.2628  \n",
      "2   1400 W  37TH                         ST  34.0210 -118.3002  \n",
      "3  14000    RIVERSIDE                    DR  34.1576 -118.4387  \n",
      "4                              JAMES M WOOD  34.0536 -118.2788  \n",
      "5                     4500    HUNTINGTON DR  34.0881 -118.1877  \n",
      "6                                 HOLLYWOOD  34.1016 -118.3370  \n",
      "7                          100    AVENUE 56  34.1089 -118.1942  \n",
      "8  18600    HATTERAS                     ST  34.1774 -118.5387  \n",
      "9                                 SEPULVEDA  34.1958 -118.4662  \n"
     ]
    }
   ],
   "source": [
    "# Print the first 10 columns\n",
    "print(\"\\n\\n Sample Data:\")\n",
    "print(\"==========================================================================\\n\")\n",
    "print(cln_crime_dt.head(10))"
   ]
  },
  {
   "cell_type": "code",
   "execution_count": 4,
   "id": "6dfe27ee",
   "metadata": {},
   "outputs": [
    {
     "data": {
      "text/plain": [
       "Index(['DIV_REC_NO', 'TIMESTAMP', 'Date_Rptd', 'AREA_Cd', 'AREA_NAME',\n",
       "       'Rpt_Dist_No', 'Part_1-2', 'Crm_Cd', 'Crm_Cd_Desc', 'Vict_Age',\n",
       "       'Vict_Sex', 'Vict_Descent', 'Premis_Cd', 'Premis_Desc', 'Status_Cd',\n",
       "       'Status_Desc', 'LOCATION', 'LAT', 'LON'],\n",
       "      dtype='object')"
      ]
     },
     "execution_count": 4,
     "metadata": {},
     "output_type": "execute_result"
    }
   ],
   "source": [
    "cln_crime_dt.columns"
   ]
  },
  {
   "cell_type": "code",
   "execution_count": 5,
   "id": "11f666a2",
   "metadata": {},
   "outputs": [
    {
     "name": "stdout",
     "output_type": "stream",
     "text": [
      "<class 'pandas.core.frame.DataFrame'>\n",
      "RangeIndex: 618733 entries, 0 to 618732\n",
      "Data columns (total 19 columns):\n",
      " #   Column        Non-Null Count   Dtype  \n",
      "---  ------        --------------   -----  \n",
      " 0   DIV_REC_NO    618733 non-null  int64  \n",
      " 1   TIMESTAMP     618733 non-null  object \n",
      " 2   Date_Rptd     618733 non-null  object \n",
      " 3   AREA_Cd       618733 non-null  int64  \n",
      " 4   AREA_NAME     618733 non-null  object \n",
      " 5   Rpt_Dist_No   618733 non-null  int64  \n",
      " 6   Part_1-2      618733 non-null  int64  \n",
      " 7   Crm_Cd        618733 non-null  int64  \n",
      " 8   Crm_Cd_Desc   618733 non-null  object \n",
      " 9   Vict_Age      618733 non-null  int64  \n",
      " 10  Vict_Sex      618733 non-null  object \n",
      " 11  Vict_Descent  618733 non-null  object \n",
      " 12  Premis_Cd     618733 non-null  int64  \n",
      " 13  Premis_Desc   618733 non-null  object \n",
      " 14  Status_Cd     618733 non-null  object \n",
      " 15  Status_Desc   618733 non-null  object \n",
      " 16  LOCATION      618733 non-null  object \n",
      " 17  LAT           618733 non-null  float64\n",
      " 18  LON           618733 non-null  float64\n",
      "dtypes: float64(2), int64(7), object(10)\n",
      "memory usage: 89.7+ MB\n"
     ]
    }
   ],
   "source": [
    "cln_crime_dt.info()"
   ]
  },
  {
   "cell_type": "code",
   "execution_count": 12,
   "id": "88b0916b",
   "metadata": {},
   "outputs": [],
   "source": [
    "# import matplotlib.pyplot as plt\n",
    "import seaborn as sns\n",
    "import matplotlib.pyplot as plt"
   ]
  },
  {
   "cell_type": "code",
   "execution_count": 13,
   "id": "527d48bf",
   "metadata": {
    "scrolled": true
   },
   "outputs": [
    {
     "data": {
      "image/png": "[encoded data removed]",
      "text/plain": [
       "<Figure size 1080x720 with 1 Axes>"
      ]
     },
     "metadata": {},
     "output_type": "display_data"
    }
   ],
   "source": [
    "# Ploting a histogram of the victim age distribution\n",
    "crm_plot = sns.histplot(cln_crime_dt[\"Vict_Age\"])\n",
    "sns.set(rc = {\"figure.figsize\" : (15,10)})\n",
    "crm_plot.set(title = \"Distribution of Victim Age\")\n",
    "plt.show()"
   ]
  },
  {
   "cell_type": "code",
   "execution_count": 14,
   "id": "6f4fdb27",
   "metadata": {},
   "outputs": [],
   "source": []
  },
  {
   "cell_type": "code",
   "execution_count": 15,
   "id": "9e84578c",
   "metadata": {},
   "outputs": [
    {
     "data": {
      "image/png": "[encoded data removed]",
      "text/plain": [
       "<Figure size 1080x720 with 1 Axes>"
      ]
     },
     "metadata": {},
     "output_type": "display_data"
    }
   ],
   "source": [
    "# Dropping records where victim age is less than 1 to eliminate outliers\n",
    "cln_crime_dt = cln_crime_dt[cln_crime_dt[\"Vict_Age\"] >= 1]\n",
    "\n",
    "# ploting a histogram for the victim age distribution\n",
    "crm_plot = sns.histplot(cln_crime_dt[\"Vict_Age\"])\n",
    "sns.set(rc = {\"figure.figsize\" : (15,10)})\n",
    "crm_plot.set(title = \"Distribution of Victim Age\")\n",
    "plt.show()"
   ]
  },
  {
   "cell_type": "markdown",
   "id": "d85927c4",
   "metadata": {},
   "source": [
    "### Creating tables\n",
    " *Tables were created from the L.A.P.D Crime Dataset. Careful considerations was given to identify null values and duplicate values in the created datasets* "
   ]
  },
  {
   "cell_type": "code",
   "execution_count": 16,
   "id": "0cac4e13",
   "metadata": {},
   "outputs": [],
   "source": [
    "\n",
    "def set_indx(tbl, clmn):\n",
    "    return tbl.set_index(clmn, drop = True, append = False, inplace = True)\n",
    "\n",
    "def drp_dplct(tbl):\n",
    "    return tbl.drop_duplicates(inplace = True)\n",
    "\n",
    "# Creating the incident report table\n",
    "incd_rpt_tbl = cln_crime_dt[[\"DIV_REC_NO\", \"Date_Rptd\", \"TIMESTAMP\", \"Rpt_Dist_No\", \"Part_1-2\", \"Status_Cd\", \"Crm_Cd\", \"Premis_Cd\", \"AREA_Cd\", \"LOCATION\", \"LAT\", \"LON\"]]\n",
    "\n",
    "# Creating the premises table\n",
    "premis_tbl = cln_crime_dt[[\"Premis_Cd\", \"Premis_Desc\"]]\n",
    "drp_dplct(premis_tbl)\n",
    "\n",
    "# Creating the victim table\n",
    "vict_tbl = cln_crime_dt[[\"DIV_REC_NO\", \"Vict_Age\", \"Vict_Sex\", \"Vict_Descent\"]] \n",
    "\n",
    "# Dropping rows that are  \n",
    "incd_rpt_tbl = incd_rpt_tbl[incd_rpt_tbl[\"Premis_Cd\"].isin(premis_tbl[\"Premis_Cd\"])]\n",
    "vict_tbl = vict_tbl[vict_tbl[\"DIV_REC_NO\"].isin(incd_rpt_tbl[\"DIV_REC_NO\"])]\n",
    "\n",
    "# Creating the crime table\n",
    "crm_tbl = cln_crime_dt[[\"Crm_Cd\", \"Crm_Cd_Desc\"]]\n",
    "set_indx(crm_tbl, \"Crm_Cd\")\n",
    "drp_dplct(crm_tbl)\n",
    "\n",
    "# Creating the status table\n",
    "status_tbl = cln_crime_dt[[\"Status_Cd\", \"Status_Desc\"]]\n",
    "set_indx(status_tbl, \"Status_Cd\")\n",
    "drp_dplct(status_tbl)\n",
    "\n",
    "# Creating location schema\n",
    "lctn_tbl = cln_crime_dt[[ \"AREA_Cd\", \"AREA_NAME\"]]\n",
    "set_indx(lctn_tbl, \"AREA_Cd\")\n",
    "drp_dplct(lctn_tbl)\n",
    "\n",
    "# Dropping rows that do not exist in parent table(ie. Primary Key & Foreign Key) \n",
    "incd_rpt_tbl = incd_rpt_tbl[incd_rpt_tbl[\"Premis_Cd\"].isin(premis_tbl[\"Premis_Cd\"])]\n",
    "vict_tbl = vict_tbl[vict_tbl[\"DIV_REC_NO\"].isin(incd_rpt_tbl[\"DIV_REC_NO\"])]\n",
    "\n",
    "# setting index\n",
    "set_indx(premis_tbl, \"Premis_Cd\")\n",
    "set_indx(vict_tbl, \"DIV_REC_NO\")\n",
    "set_indx(incd_rpt_tbl, \"DIV_REC_NO\")\n"
   ]
  },
  {
   "cell_type": "code",
   "execution_count": 17,
   "id": "2932a92c",
   "metadata": {},
   "outputs": [
    {
     "name": "stdout",
     "output_type": "stream",
     "text": [
      "Wall time: 3.72 s\n"
     ]
    }
   ],
   "source": [
    "%%time\n",
    "# Writing dataframe to CSV \n",
    "\n",
    "def wrt_to_csv(dataframe, f_name):\n",
    "    return dataframe.to_csv(f\"C:\\\\Python_Files\\\\Crime_data\\\\CRM_DT_SEG\\\\{f_name}.csv\")\n",
    "\n",
    "wrt_to_csv(crm_tbl, \"crime_tbl\")\n",
    "wrt_to_csv(incd_rpt_tbl, \"incidence_reporting_tbl\")\n",
    "wrt_to_csv(premis_tbl, \"premise_tbl\")\n",
    "wrt_to_csv(vict_tbl, \"victim_tbl\")\n",
    "wrt_to_csv(status_tbl, \"status_tbl\")\n",
    "wrt_to_csv(lctn_tbl, \"location_tbl\")"
   ]
  }
 ],
 "metadata": {
  "kernelspec": {
   "display_name": "Python 3 (ipykernel)",
   "language": "python",
   "name": "python3"
  },
  "language_info": {
   "codemirror_mode": {
    "name": "ipython",
    "version": 3
   },
   "file_extension": ".py",
   "mimetype": "text/x-python",
   "name": "python",
   "nbconvert_exporter": "python",
   "pygments_lexer": "ipython3",
   "version": "3.9.7"
  }
 },
 "nbformat": 4,
 "nbformat_minor": 5
}
